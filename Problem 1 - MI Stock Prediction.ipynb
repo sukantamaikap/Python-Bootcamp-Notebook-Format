{
 "cells": [
  {
   "cell_type": "markdown",
   "metadata": {},
   "source": [
    "# Let's predict MI's stock price\n",
    "\n",
    "We will use Pandas, scikit learn and matplotlib to predict and display MI stock price"
   ]
  },
  {
   "cell_type": "markdown",
   "metadata": {},
   "source": [
    "<img src=\"http://pandas.pydata.org/_static/pandas_logo.png\",width=240,height=240><img src=\"https://matplotlib.org/_static/logo2.svg\",width=240,height=240><img src=\"http://scikit-learn.org/stable/_static/scikit-learn-logo-small.png\",width=240,height=240>\n"
   ]
  },
  {
   "cell_type": "markdown",
   "metadata": {},
   "source": [
    "## Let's gather Data first ....."
   ]
  },
  {
   "cell_type": "code",
   "execution_count": 6,
   "metadata": {
    "collapsed": false
   },
   "outputs": [],
   "source": [
    "from pandas_datareader import data\n",
    "from datetime import datetime, timedelta\n",
    "from matplotlib import style\n",
    "style.use('ggplot')"
   ]
  },
  {
   "cell_type": "markdown",
   "metadata": {},
   "source": [
    "# What is matplotlib?\n",
    "\n",
    "\n",
    "# What is pandas and pandas_datareader?\n",
    "Pandas :  Data analysis library for Python.\n",
    "Pandas_datareader : A module for reading data from different data sources. Sources currently supported :\n"
   ]
  },
  {
   "cell_type": "code",
   "execution_count": 7,
   "metadata": {
    "collapsed": true
   },
   "outputs": [],
   "source": [
    "start_date = datetime(2014, 6, 12)\n",
    "end_date = datetime.today()\n",
    "ticker = 'MOBL'\n",
    "source = 'google'\n",
    "mobl_df = data.DataReader(ticker, source, start_date, end_date)"
   ]
  },
  {
   "cell_type": "code",
   "execution_count": 8,
   "metadata": {
    "collapsed": false
   },
   "outputs": [
    {
     "data": {
      "text/html": [
       "<div>\n",
       "<table border=\"1\" class=\"dataframe\">\n",
       "  <thead>\n",
       "    <tr style=\"text-align: right;\">\n",
       "      <th></th>\n",
       "      <th>Open</th>\n",
       "      <th>High</th>\n",
       "      <th>Low</th>\n",
       "      <th>Close</th>\n",
       "      <th>Volume</th>\n",
       "    </tr>\n",
       "    <tr>\n",
       "      <th>Date</th>\n",
       "      <th></th>\n",
       "      <th></th>\n",
       "      <th></th>\n",
       "      <th></th>\n",
       "      <th></th>\n",
       "    </tr>\n",
       "  </thead>\n",
       "  <tbody>\n",
       "    <tr>\n",
       "      <th>2017-08-21</th>\n",
       "      <td>3.90</td>\n",
       "      <td>3.95</td>\n",
       "      <td>3.80</td>\n",
       "      <td>3.85</td>\n",
       "      <td>424430</td>\n",
       "    </tr>\n",
       "    <tr>\n",
       "      <th>2017-08-22</th>\n",
       "      <td>3.85</td>\n",
       "      <td>3.95</td>\n",
       "      <td>3.82</td>\n",
       "      <td>3.85</td>\n",
       "      <td>673562</td>\n",
       "    </tr>\n",
       "    <tr>\n",
       "      <th>2017-08-23</th>\n",
       "      <td>3.80</td>\n",
       "      <td>3.95</td>\n",
       "      <td>3.80</td>\n",
       "      <td>3.90</td>\n",
       "      <td>596922</td>\n",
       "    </tr>\n",
       "    <tr>\n",
       "      <th>2017-08-24</th>\n",
       "      <td>3.85</td>\n",
       "      <td>3.95</td>\n",
       "      <td>3.80</td>\n",
       "      <td>3.90</td>\n",
       "      <td>1061225</td>\n",
       "    </tr>\n",
       "    <tr>\n",
       "      <th>2017-08-25</th>\n",
       "      <td>3.90</td>\n",
       "      <td>3.95</td>\n",
       "      <td>3.72</td>\n",
       "      <td>3.80</td>\n",
       "      <td>406296</td>\n",
       "    </tr>\n",
       "  </tbody>\n",
       "</table>\n",
       "</div>"
      ],
      "text/plain": [
       "            Open  High   Low  Close   Volume\n",
       "Date                                        \n",
       "2017-08-21  3.90  3.95  3.80   3.85   424430\n",
       "2017-08-22  3.85  3.95  3.82   3.85   673562\n",
       "2017-08-23  3.80  3.95  3.80   3.90   596922\n",
       "2017-08-24  3.85  3.95  3.80   3.90  1061225\n",
       "2017-08-25  3.90  3.95  3.72   3.80   406296"
      ]
     },
     "execution_count": 8,
     "metadata": {},
     "output_type": "execute_result"
    }
   ],
   "source": [
    "mobl_df.tail()"
   ]
  },
  {
   "cell_type": "code",
   "execution_count": 9,
   "metadata": {
    "collapsed": false
   },
   "outputs": [
    {
     "data": {
      "text/plain": [
       "<matplotlib.axes._subplots.AxesSubplot at 0x7f5d72d32a90>"
      ]
     },
     "execution_count": 9,
     "metadata": {},
     "output_type": "execute_result"
    },
    {
     "data": {
      "image/png": "[encoded data removed]",
      "text/plain": [
       "<matplotlib.figure.Figure at 0x7f5d72d1bf98>"
      ]
     },
     "metadata": {},
     "output_type": "display_data"
    }
   ],
   "source": [
    "%matplotlib inline\n",
    "mobl_df.plot(y='Close')"
   ]
  },
  {
   "cell_type": "code",
   "execution_count": 10,
   "metadata": {
    "collapsed": false
   },
   "outputs": [],
   "source": [
    "# save the date in a file, we do not want to call this api again and again\n",
    "mobl_df.to_csv('mobl.csv')"
   ]
  },
  {
   "cell_type": "code",
   "execution_count": 11,
   "metadata": {
    "collapsed": false
   },
   "outputs": [
    {
     "name": "stderr",
     "output_type": "stream",
     "text": [
      "/usr/local/lib/python3.5/dist-packages/sklearn/cross_validation.py:44: DeprecationWarning: This module was deprecated in version 0.18 in favor of the model_selection module into which all the refactored classes and functions are moved. Also note that the interface of the new CV iterators are different from that of this module. This module will be removed in 0.20.\n",
      "  \"This module will be removed in 0.20.\", DeprecationWarning)\n"
     ]
    }
   ],
   "source": [
    "import numpy as np \n",
    "import pandas as pd \n",
    "from sklearn import cross_validation,preprocessing\n",
    "from sklearn.linear_model import LinearRegression\n",
    "import math\n",
    "import matplotlib.pyplot as plt"
   ]
  },
  {
   "cell_type": "code",
   "execution_count": 13,
   "metadata": {
    "collapsed": false
   },
   "outputs": [
    {
     "name": "stdout",
     "output_type": "stream",
     "text": [
      "forecast leanght is : 17\n"
     ]
    }
   ],
   "source": [
    "forecast_length = int(math.ceil(0.02 * len(mobl_df)))\n",
    "print('forecast leanght is : ' + str(forecast_length))"
   ]
  },
  {
   "cell_type": "code",
   "execution_count": 14,
   "metadata": {
    "collapsed": false
   },
   "outputs": [],
   "source": [
    "df=pd.read_csv('mobl.csv')"
   ]
  },
  {
   "cell_type": "code",
   "execution_count": 15,
   "metadata": {
    "collapsed": true
   },
   "outputs": [],
   "source": [
    "df['Date'] = df['Date'].astype('datetime64[ns]')\n",
    "df.set_index('Date',inplace='True')\n",
    "df['High_Low_Change']=(df['High']-df['Close'])/df['Close']*100.0\n",
    "df['Change_Perc']=(df['Close']-df['Open'])/df['Open']*100.0\n",
    "    \n",
    "df=df[['Close','High_Low_Change','Change_Perc','Volume']]\n",
    "df.fillna(-9999,inplace='True')"
   ]
  },
  {
   "cell_type": "code",
   "execution_count": 16,
   "metadata": {
    "collapsed": false
   },
   "outputs": [
    {
     "data": {
      "text/html": [
       "<div>\n",
       "<table border=\"1\" class=\"dataframe\">\n",
       "  <thead>\n",
       "    <tr style=\"text-align: right;\">\n",
       "      <th></th>\n",
       "      <th>Close</th>\n",
       "      <th>High_Low_Change</th>\n",
       "      <th>Change_Perc</th>\n",
       "      <th>Volume</th>\n",
       "    </tr>\n",
       "    <tr>\n",
       "      <th>Date</th>\n",
       "      <th></th>\n",
       "      <th></th>\n",
       "      <th></th>\n",
       "      <th></th>\n",
       "    </tr>\n",
       "  </thead>\n",
       "  <tbody>\n",
       "    <tr>\n",
       "      <th>2017-08-21</th>\n",
       "      <td>3.85</td>\n",
       "      <td>2.597403</td>\n",
       "      <td>-1.282051</td>\n",
       "      <td>424430</td>\n",
       "    </tr>\n",
       "    <tr>\n",
       "      <th>2017-08-22</th>\n",
       "      <td>3.85</td>\n",
       "      <td>2.597403</td>\n",
       "      <td>0.000000</td>\n",
       "      <td>673562</td>\n",
       "    </tr>\n",
       "    <tr>\n",
       "      <th>2017-08-23</th>\n",
       "      <td>3.90</td>\n",
       "      <td>1.282051</td>\n",
       "      <td>2.631579</td>\n",
       "      <td>596922</td>\n",
       "    </tr>\n",
       "    <tr>\n",
       "      <th>2017-08-24</th>\n",
       "      <td>3.90</td>\n",
       "      <td>1.282051</td>\n",
       "      <td>1.298701</td>\n",
       "      <td>1061225</td>\n",
       "    </tr>\n",
       "    <tr>\n",
       "      <th>2017-08-25</th>\n",
       "      <td>3.80</td>\n",
       "      <td>3.947368</td>\n",
       "      <td>-2.564103</td>\n",
       "      <td>406296</td>\n",
       "    </tr>\n",
       "  </tbody>\n",
       "</table>\n",
       "</div>"
      ],
      "text/plain": [
       "            Close  High_Low_Change  Change_Perc   Volume\n",
       "Date                                                    \n",
       "2017-08-21   3.85         2.597403    -1.282051   424430\n",
       "2017-08-22   3.85         2.597403     0.000000   673562\n",
       "2017-08-23   3.90         1.282051     2.631579   596922\n",
       "2017-08-24   3.90         1.282051     1.298701  1061225\n",
       "2017-08-25   3.80         3.947368    -2.564103   406296"
      ]
     },
     "execution_count": 16,
     "metadata": {},
     "output_type": "execute_result"
    }
   ],
   "source": [
    "df.tail()"
   ]
  },
  {
   "cell_type": "code",
   "execution_count": 17,
   "metadata": {
    "collapsed": false
   },
   "outputs": [
    {
     "data": {
      "text/html": [
       "<div>\n",
       "<table border=\"1\" class=\"dataframe\">\n",
       "  <thead>\n",
       "    <tr style=\"text-align: right;\">\n",
       "      <th></th>\n",
       "      <th>Close</th>\n",
       "      <th>High_Low_Change</th>\n",
       "      <th>Change_Perc</th>\n",
       "      <th>Volume</th>\n",
       "      <th>Prediction</th>\n",
       "    </tr>\n",
       "    <tr>\n",
       "      <th>Date</th>\n",
       "      <th></th>\n",
       "      <th></th>\n",
       "      <th></th>\n",
       "      <th></th>\n",
       "      <th></th>\n",
       "    </tr>\n",
       "  </thead>\n",
       "  <tbody>\n",
       "    <tr>\n",
       "      <th>2017-08-21</th>\n",
       "      <td>3.85</td>\n",
       "      <td>2.597403</td>\n",
       "      <td>-1.282051</td>\n",
       "      <td>424430</td>\n",
       "      <td>NaN</td>\n",
       "    </tr>\n",
       "    <tr>\n",
       "      <th>2017-08-22</th>\n",
       "      <td>3.85</td>\n",
       "      <td>2.597403</td>\n",
       "      <td>0.000000</td>\n",
       "      <td>673562</td>\n",
       "      <td>NaN</td>\n",
       "    </tr>\n",
       "    <tr>\n",
       "      <th>2017-08-23</th>\n",
       "      <td>3.90</td>\n",
       "      <td>1.282051</td>\n",
       "      <td>2.631579</td>\n",
       "      <td>596922</td>\n",
       "      <td>NaN</td>\n",
       "    </tr>\n",
       "    <tr>\n",
       "      <th>2017-08-24</th>\n",
       "      <td>3.90</td>\n",
       "      <td>1.282051</td>\n",
       "      <td>1.298701</td>\n",
       "      <td>1061225</td>\n",
       "      <td>NaN</td>\n",
       "    </tr>\n",
       "    <tr>\n",
       "      <th>2017-08-25</th>\n",
       "      <td>3.80</td>\n",
       "      <td>3.947368</td>\n",
       "      <td>-2.564103</td>\n",
       "      <td>406296</td>\n",
       "      <td>NaN</td>\n",
       "    </tr>\n",
       "  </tbody>\n",
       "</table>\n",
       "</div>"
      ],
      "text/plain": [
       "            Close  High_Low_Change  Change_Perc   Volume  Prediction\n",
       "Date                                                                \n",
       "2017-08-21   3.85         2.597403    -1.282051   424430         NaN\n",
       "2017-08-22   3.85         2.597403     0.000000   673562         NaN\n",
       "2017-08-23   3.90         1.282051     2.631579   596922         NaN\n",
       "2017-08-24   3.90         1.282051     1.298701  1061225         NaN\n",
       "2017-08-25   3.80         3.947368    -2.564103   406296         NaN"
      ]
     },
     "execution_count": 17,
     "metadata": {},
     "output_type": "execute_result"
    }
   ],
   "source": [
    "df['Prediction']=df['Close'].shift(-forecast_length)\n",
    "df.tail()"
   ]
  },
  {
   "cell_type": "code",
   "execution_count": 18,
   "metadata": {
    "collapsed": true
   },
   "outputs": [],
   "source": [
    "X = np.array(df.drop(['Prediction'],1))\n",
    "X = preprocessing.scale(X)\n",
    "#forecast for last \"forecast_length\" days only, as they do not have a corresponding predictions\n",
    "X_Check = X[-forecast_length:]\n",
    "#remove the \"forecast out\" count from the end to ensure count parity between feature and label\n",
    "X = X[:-forecast_length]"
   ]
  },
  {
   "cell_type": "code",
   "execution_count": 19,
   "metadata": {
    "collapsed": true
   },
   "outputs": [],
   "source": [
    "#remove the nan fields \n",
    "df.dropna(inplace='True')\n",
    "# lable\n",
    "y=np.array(df['Prediction'])"
   ]
  },
  {
   "cell_type": "code",
   "execution_count": 20,
   "metadata": {
    "collapsed": false
   },
   "outputs": [],
   "source": [
    "#Splitting the data set for training and testin\n",
    "X_train,X_test,y_train,y_test=cross_validation.train_test_split(X,y,test_size=0.2)"
   ]
  },
  {
   "cell_type": "code",
   "execution_count": 21,
   "metadata": {
    "collapsed": false
   },
   "outputs": [
    {
     "name": "stdout",
     "output_type": "stream",
     "text": [
      "Accuracy is: 86.32 %\n"
     ]
    }
   ],
   "source": [
    "clf=LinearRegression()\n",
    "clf.fit(X_train,y_train)\n",
    "accuracy=clf.score(X_test,y_test)\n",
    "accuracy=accuracy*100\n",
    "accuracy = float(\"{0:.2f}\".format(accuracy))\n",
    "print('Accuracy is:',accuracy,'%')"
   ]
  },
  {
   "cell_type": "code",
   "execution_count": 22,
   "metadata": {
    "collapsed": false
   },
   "outputs": [
    {
     "name": "stdout",
     "output_type": "stream",
     "text": [
      "final forcasted result : [ 4.34255176  4.14356586  4.13863544  3.89834709  3.77989793  3.86754649\n",
      "  3.92450027  3.90412451  3.96920553  4.00780534  4.06662868  3.94210143\n",
      "  3.82572408  3.78779025  3.84820795  3.64849865  3.8460943 ]\n",
      "forecast lenght : 17\n"
     ]
    }
   ],
   "source": [
    "#predict\n",
    "forecast_set=clf.predict(X_Check)\n",
    "print('final forcasted result : ' +  str(forecast_set))\n",
    "print('forecast lenght : ' + str(forecast_length))"
   ]
  },
  {
   "cell_type": "code",
   "execution_count": 23,
   "metadata": {
    "collapsed": false
   },
   "outputs": [],
   "source": [
    "last_date=df.iloc[-1].name\n",
    "modified_date = last_date + timedelta(days=1)\n",
    "date=pd.date_range(last_date,periods=forecast_length,freq='D')\n",
    "df1=pd.DataFrame(forecast_set,columns=['Forecast'],index=date)\n",
    "df=df.append(df1)"
   ]
  },
  {
   "cell_type": "code",
   "execution_count": 24,
   "metadata": {
    "collapsed": false
   },
   "outputs": [
    {
     "data": {
      "image/png": "[encoded data removed]",
      "text/plain": [
       "<matplotlib.figure.Figure at 0x7f5d6874aeb8>"
      ]
     },
     "metadata": {},
     "output_type": "display_data"
    }
   ],
   "source": [
    "df['Close'].plot()\n",
    "df['Forecast'].plot()\n",
    "plt.legend(loc=1)\n",
    "plt.xlabel('Date')\n",
    "plt.ylabel('Price')\n",
    "plt.show()"
   ]
  }
 ],
 "metadata": {
  "kernelspec": {
   "display_name": "Python 3",
   "language": "python",
   "name": "python3"
  },
  "language_info": {
   "codemirror_mode": {
    "name": "ipython",
    "version": 3
   },
   "file_extension": ".py",
   "mimetype": "text/x-python",
   "name": "python",
   "nbconvert_exporter": "python",
   "pygments_lexer": "ipython3",
   "version": "3.5.2"
  }
 },
 "nbformat": 4,
 "nbformat_minor": 2
}
