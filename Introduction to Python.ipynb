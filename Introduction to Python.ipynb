{
 "cells": [
  {
   "cell_type": "markdown",
   "metadata": {},
   "source": [
    "# Python Bootcamp\n",
    "- Let's learn by doing\n",
    "\n",
    "\n",
    "\n"
   ]
  },
  {
   "cell_type": "markdown",
   "metadata": {},
   "source": [
    "## Goals of this tutorial\n",
    "\n",
    "- **Learn Basics of Python** (by comparing it with Java)\n",
    "- **Solve a couple of real world problem with the newly acquired knowledge**"
   ]
  },
  {
   "cell_type": "markdown",
   "metadata": {},
   "source": [
    "## Schedule"
   ]
  },
  {
   "cell_type": "markdown",
   "metadata": {},
   "source": [
    "- **Introduction to Python ** - 20 min \n",
    "- **Problem 1 ** - 30 min [Learn to use a few modules and predict stock price]\n",
    "- **Problem 2 ** - 10 min [Exercise]"
   ]
  },
  {
   "cell_type": "markdown",
   "metadata": {},
   "source": [
    "## Why should you learn Python?\n",
    "\n",
    "<img src=\"https://camo.githubusercontent.com/d9dd1a378ecb13fa5e90320153fcbf053b68e2cd/687474703a2f2f692e696d6775722e636f6d2f41307536642e6a7067\">\n",
    "\n",
    "### [Batteries included….](https://www.pythonanywhere.com/batteries_included/)\n",
    "\n",
    "- Comes with rich and vibrant standard libraries :\n",
    "- Scientific Programming\n",
    "- Numerical Analysis\n",
    "- Education\n",
    "- Astronomy \n",
    "- Big Data Analysis   \n",
    "- Machine Learning\n",
    "- Web Development\n",
    "- Visualization\n",
    "\n",
    "---- and many many more!!!!\n",
    "\n",
    "<img src=\"https://montcs.bloomu.edu/~bobmon/Semesters/2012-01/491/import%20soul.png\">"
   ]
  },
  {
   "cell_type": "code",
   "execution_count": null,
   "metadata": {
    "collapsed": true
   },
   "outputs": [],
   "source": []
  },
  {
   "cell_type": "code",
   "execution_count": null,
   "metadata": {
    "collapsed": true
   },
   "outputs": [],
   "source": []
  },
  {
   "cell_type": "code",
   "execution_count": null,
   "metadata": {
    "collapsed": true
   },
   "outputs": [],
   "source": []
  },
  {
   "cell_type": "code",
   "execution_count": null,
   "metadata": {
    "collapsed": true
   },
   "outputs": [],
   "source": []
  },
  {
   "cell_type": "markdown",
   "metadata": {},
   "source": [
    "## Modules Required For Exercise"
   ]
  },
  {
   "cell_type": "markdown",
   "metadata": {},
   "source": [
    "This tutorial requires the following packages:\n",
    "\n",
    "-  Python version 2.x or 3.x \n",
    "- `numpy` : http://www.numpy.org/\n",
    "- `scipy` : http://www.scipy.org/\n",
    "- `matplotlib` : http://matplotlib.org/\n",
    "- `scikit-learn` : http://scikit-learn.org\n",
    "- `pandas` : http://pandas.pydata.org/\n",
    "- `pandas_dataframe` : https://pandas.pydata.org/pandas-docs/stable/generated/pandas.DataFrame.html\n",
    "- `matplotlib`: https://matplotlib.org/\n",
    "\n",
    "### Bonus\n",
    "- `ipython` : https://ipython.org/\n",
    "\n",
    "### Commands for installing them :\n",
    "- sudo pip install numpy\n",
    "- sudo pip install scipy\n",
    "- sudo pip install matplotlib\n",
    "- sudo pip install scikit-learn\n",
    "- sudo pip install pandas\n",
    "- sudo pip install ipython"
   ]
  },
  {
   "cell_type": "markdown",
   "metadata": {},
   "source": [
    "### Checking your installation\n",
    "\n",
    "You can run the following code to check the versions of the packages on your system:\n",
    "\n",
    "(in IPython notebook, press `shift` and `return` together to execute the contents of a cell)"
   ]
  },
  {
   "cell_type": "code",
   "execution_count": 5,
   "metadata": {
    "collapsed": false
   },
   "outputs": [
    {
     "name": "stdout",
     "output_type": "stream",
     "text": [
      "numpy: 1.11.0\n",
      "scipy: 0.17.0\n",
      "matplotlib: 1.5.1\n",
      "scikit-learn: 0.18.2\n"
     ]
    }
   ],
   "source": [
    "# Example\n",
    "\n",
    "import numpy\n",
    "print('numpy:', numpy.__version__)\n",
    "\n",
    "import scipy\n",
    "print('scipy:', scipy.__version__)\n",
    "\n",
    "import matplotlib\n",
    "print('matplotlib:', matplotlib.__version__)\n",
    "\n",
    "import sklearn\n",
    "print('scikit-learn:', sklearn.__version__)"
   ]
  },
  {
   "cell_type": "code",
   "execution_count": null,
   "metadata": {
    "collapsed": true
   },
   "outputs": [],
   "source": []
  }
 ],
 "metadata": {
  "kernelspec": {
   "display_name": "Python 3",
   "language": "python",
   "name": "python3"
  },
  "language_info": {
   "codemirror_mode": {
    "name": "ipython",
    "version": 3
   },
   "file_extension": ".py",
   "mimetype": "text/x-python",
   "name": "python",
   "nbconvert_exporter": "python",
   "pygments_lexer": "ipython3",
   "version": "3.5.2"
  }
 },
 "nbformat": 4,
 "nbformat_minor": 2
}
