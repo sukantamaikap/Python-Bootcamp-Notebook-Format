{
 "cells": [
  {
   "cell_type": "markdown",
   "metadata": {},
   "source": [
    "# Python Bootcamp\n",
    "- Let's learn by doing\n",
    "\n",
    "\n",
    "\n"
   ]
  },
  {
   "cell_type": "markdown",
   "metadata": {},
   "source": [
    "## Goals of this tutorial\n",
    "\n",
    "- **Learn Basics of Python** (by comparing it with Java)\n",
    "- **Solve a couple of real world problem with the newly acquired knowledge**"
   ]
  },
  {
   "cell_type": "markdown",
   "metadata": {},
   "source": [
    "## Schedule"
   ]
  },
  {
   "cell_type": "markdown",
   "metadata": {},
   "source": [
    "- **Introduction to Python ** - 20 min \n",
    "- **Problem 1 ** - 30 min [Learn to use a few modules and predict stock price]\n",
    "- **Problem 2 ** - 10 min [Exercise]"
   ]
  },
  {
   "cell_type": "markdown",
   "metadata": {},
   "source": [
    "`[Just in case]` Dowonload python from [here](https://www.python.org/downloads/)."
   ]
  },
  {
   "cell_type": "markdown",
   "metadata": {},
   "source": [
    "## Why should you learn Python?\n",
    "\n",
    "<img src=\"https://camo.githubusercontent.com/d9dd1a378ecb13fa5e90320153fcbf053b68e2cd/687474703a2f2f692e696d6775722e636f6d2f41307536642e6a7067\">\n",
    "\n",
    "### [Batteries included….](https://www.pythonanywhere.com/batteries_included/)\n",
    "\n",
    "Comes with rich and vibrant standard libraries :\n",
    "- Scientific Programming\n",
    "- Numerical Analysis\n",
    "- Education\n",
    "- Astronomy \n",
    "- Big Data Analysis   \n",
    "- Machine Learning\n",
    "- Web Development\n",
    "- Visualization\n",
    "\n",
    "---- and many many more!!!!\n",
    "\n",
    "<img src=\"https://montcs.bloomu.edu/~bobmon/Semesters/2012-01/491/import%20soul.png\">"
   ]
  },
  {
   "cell_type": "markdown",
   "metadata": {
    "collapsed": true
   },
   "source": [
    "## Basics\n",
    "- Interpreted Language.  \n",
    "- Supports Object Oriented Programming. \n",
    "- Dynamically Typed\n",
    "- Block or scope is defined by : and indentation\n",
    "- Module ~ Package"
   ]
  },
  {
   "cell_type": "code",
   "execution_count": 9,
   "metadata": {
    "collapsed": false
   },
   "outputs": [
    {
     "name": "stdout",
     "output_type": "stream",
     "text": [
      "98.3\n",
      "MI\n",
      "0\n",
      "1\n",
      "2\n",
      "3\n",
      "4\n",
      "5\n",
      "6\n",
      "7\n",
      "8\n",
      "9\n",
      "****************************** example for scope *************************\n",
      "a not found\n"
     ]
    }
   ],
   "source": [
    "# Note for the presenter : introduce command line environment\n",
    "\n",
    "# example of dynamically typed\n",
    "val = 98.3\n",
    "print(val)\n",
    "\n",
    "val = 'MI'\n",
    "print(val)\n",
    "\n",
    "# example for scope being defined by indentation and :, unlike {} for java\n",
    "for i in range(10):\n",
    "    print(i)\n",
    "\n",
    "print('****************************** example for scope *************************')\n",
    "    \n",
    "if 'a' in 'MobileIron':\n",
    "    print(\"a found\")\n",
    "else:\n",
    "    print('a not found')\n",
    "\n",
    "# notice use of both ' and \" to denot string, but mix of both are not allowed"
   ]
  },
  {
   "cell_type": "markdown",
   "metadata": {
    "collapsed": true
   },
   "source": [
    "## Methods / Functions in Python \n",
    "\n",
    "- Dynamically typed : so no type for parameter(s) \n",
    "- Dynamically typed : so no type for return value\n",
    "- Documentation is extremely important here\n",
    "- Misuse can only be caught at runtime\n",
    "- Default return value : None [equivalent to null in java]\n",
    "\n",
    "<img src=\"http://ptgmedia.pearsoncmg.com/images/chap2_9780134076430/elementLinks/p0215_01.jpg\">"
   ]
  },
  {
   "cell_type": "code",
   "execution_count": 12,
   "metadata": {
    "collapsed": false
   },
   "outputs": [
    {
     "name": "stdout",
     "output_type": "stream",
     "text": [
      "8\n",
      "64\n"
     ]
    }
   ],
   "source": [
    "def foo(key):\n",
    "    # you may return multiple return types\n",
    "    return key, key*key\n",
    "\n",
    "a, b = foo(8)\n",
    "print(a)\n",
    "print(b)"
   ]
  },
  {
   "cell_type": "markdown",
   "metadata": {},
   "source": [
    "## Positional & Keyword Argument\n",
    "\n",
    "- **Positional Argument** : traditional way of matching value with the params.\n",
    "- **Keyword Argument** : by explicitly assigning a value to the parameter. "
   ]
  },
  {
   "cell_type": "code",
   "execution_count": 23,
   "metadata": {
    "collapsed": false
   },
   "outputs": [
    {
     "data": {
      "text/plain": [
       "5"
      ]
     },
     "execution_count": 23,
     "metadata": {},
     "output_type": "execute_result"
    }
   ],
   "source": [
    "def sum(a, b=2, c=3):\n",
    "    return a + b +c\n",
    "\n",
    "# what would be the output of each of these?\n",
    "sum(1)\n",
    "sum(2, c=1)\n",
    "# sum(b=1, c=1)\n"
   ]
  },
  {
   "cell_type": "markdown",
   "metadata": {},
   "source": [
    "## Python Built-in Functions \n",
    "(some)\n",
    "\n",
    "<img src=\"\">"
   ]
  },
  {
   "cell_type": "code",
   "execution_count": null,
   "metadata": {
    "collapsed": true
   },
   "outputs": [],
   "source": [
    "# "
   ]
  },
  {
   "cell_type": "code",
   "execution_count": null,
   "metadata": {
    "collapsed": true
   },
   "outputs": [],
   "source": []
  },
  {
   "cell_type": "code",
   "execution_count": null,
   "metadata": {
    "collapsed": true
   },
   "outputs": [],
   "source": []
  },
  {
   "cell_type": "markdown",
   "metadata": {},
   "source": [
    "## Class in Python\n",
    "\n",
    "<img src=\"http://pythoncentral.io/wp-content/uploads/2013/02/instancemethod.png\">\n",
    "\n",
    "__init__() - constructor in Java\n",
    "\n",
    "**Object** - parent of all classes\n",
    "\n",
    "Supports multiple inheritence\n",
    "\n"
   ]
  },
  {
   "cell_type": "markdown",
   "metadata": {},
   "source": [
    "## Python’s Built-in Classes\n",
    "(some)\n",
    "\n",
    "<img src=\"classes.png\">\n",
    "\n",
    "* No array in python. [Numpy array](https://docs.scipy.org/doc/numpy/reference/generated/numpy.array.html) provides that instead.\n"
   ]
  },
  {
   "cell_type": "code",
   "execution_count": 21,
   "metadata": {
    "collapsed": false
   },
   "outputs": [],
   "source": [
    "# list operations : define one\n",
    "a = [1, 2, 3, 4, 5, 6]\n",
    "b = list(range(100))"
   ]
  },
  {
   "cell_type": "markdown",
   "metadata": {},
   "source": [
    "# slice a list : list[start_index : end_index : steps]\n",
    "<img src=\"https://pythonproject.files.wordpress.com/2014/04/list_slicing1.jpg\">\n"
   ]
  },
  {
   "cell_type": "code",
   "execution_count": null,
   "metadata": {
    "collapsed": true
   },
   "outputs": [],
   "source": []
  },
  {
   "cell_type": "code",
   "execution_count": null,
   "metadata": {
    "collapsed": true
   },
   "outputs": [],
   "source": []
  },
  {
   "cell_type": "code",
   "execution_count": null,
   "metadata": {
    "collapsed": true
   },
   "outputs": [],
   "source": []
  },
  {
   "cell_type": "code",
   "execution_count": null,
   "metadata": {
    "collapsed": true
   },
   "outputs": [],
   "source": []
  },
  {
   "cell_type": "code",
   "execution_count": null,
   "metadata": {
    "collapsed": true
   },
   "outputs": [],
   "source": []
  },
  {
   "cell_type": "markdown",
   "metadata": {},
   "source": [
    "## Modules Required For Exercise"
   ]
  },
  {
   "cell_type": "markdown",
   "metadata": {},
   "source": [
    "This tutorial requires the following packages:\n",
    "\n",
    "-  Python version 2.x or 3.x \n",
    "- `numpy` : http://www.numpy.org/\n",
    "- `scipy` : http://www.scipy.org/\n",
    "- `matplotlib` : http://matplotlib.org/\n",
    "- `scikit-learn` : http://scikit-learn.org\n",
    "- `pandas` : http://pandas.pydata.org/\n",
    "- `pandas_dataframe` : https://pandas.pydata.org/pandas-docs/stable/generated/pandas.DataFrame.html\n",
    "- `matplotlib`: https://matplotlib.org/\n",
    "\n",
    "### Bonus\n",
    "- `ipython` : https://ipython.org/\n",
    "\n",
    "### Commands for installing them :\n",
    "- sudo pip install numpy\n",
    "- sudo pip install scipy\n",
    "- sudo pip install matplotlib\n",
    "- sudo pip install scikit-learn\n",
    "- sudo pip install pandas\n",
    "- sudo pip install ipython"
   ]
  },
  {
   "cell_type": "markdown",
   "metadata": {},
   "source": [
    "### Checking your installation\n",
    "\n",
    "You can run the following code to check the versions of the packages on your system:\n",
    "\n",
    "(in IPython notebook, press `shift` and `return` together to execute the contents of a cell)"
   ]
  },
  {
   "cell_type": "code",
   "execution_count": 5,
   "metadata": {
    "collapsed": false
   },
   "outputs": [
    {
     "name": "stdout",
     "output_type": "stream",
     "text": [
      "numpy: 1.11.0\n",
      "scipy: 0.17.0\n",
      "matplotlib: 1.5.1\n",
      "scikit-learn: 0.18.2\n"
     ]
    }
   ],
   "source": [
    "# Example\n",
    "\n",
    "import numpy\n",
    "print('numpy:', numpy.__version__)\n",
    "\n",
    "import scipy\n",
    "print('scipy:', scipy.__version__)\n",
    "\n",
    "import matplotlib\n",
    "print('matplotlib:', matplotlib.__version__)\n",
    "\n",
    "import sklearn\n",
    "print('scikit-learn:', sklearn.__version__)"
   ]
  },
  {
   "cell_type": "code",
   "execution_count": null,
   "metadata": {
    "collapsed": true
   },
   "outputs": [],
   "source": []
  }
 ],
 "metadata": {
  "kernelspec": {
   "display_name": "Python 3",
   "language": "python",
   "name": "python3"
  },
  "language_info": {
   "codemirror_mode": {
    "name": "ipython",
    "version": 3
   },
   "file_extension": ".py",
   "mimetype": "text/x-python",
   "name": "python",
   "nbconvert_exporter": "python",
   "pygments_lexer": "ipython3",
   "version": "3.5.2"
  }
 },
 "nbformat": 4,
 "nbformat_minor": 2
}
